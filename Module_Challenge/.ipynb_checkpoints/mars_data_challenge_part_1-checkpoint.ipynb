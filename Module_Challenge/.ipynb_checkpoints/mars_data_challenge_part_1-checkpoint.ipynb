{
 "cells": [
  {
   "cell_type": "code",
   "execution_count": 1,
   "id": "ac71024b",
   "metadata": {},
   "outputs": [
    {
     "name": "stderr",
     "output_type": "stream",
     "text": [
      "[WDM] - Downloading: 100%|████████████████████████████████████████████████████████| 6.29M/6.29M [00:00<00:00, 65.1MB/s]\n"
     ]
    }
   ],
   "source": [
    "import pandas as pd\n",
    "import json\n",
    "\n",
    "from splinter import Browser\n",
    "from bs4 import BeautifulSoup as soup\n",
    "from webdriver_manager.chrome import ChromeDriverManager\n",
    "\n",
    "\n",
    "executable_path = {'executable_path': ChromeDriverManager().install()}\n",
    "browser = Browser('chrome', **executable_path, headless=False)"
   ]
  },
  {
   "cell_type": "code",
   "execution_count": 2,
   "id": "63e00b92",
   "metadata": {},
   "outputs": [],
   "source": [
    "# Have the browser navigate to the website and copy the content\n",
    "url = 'https://redplanetscience.com/'\n",
    "browser.visit(url)\n",
    "html = browser.html\n",
    "soup = soup(html, 'html.parser')"
   ]
  },
  {
   "cell_type": "code",
   "execution_count": 3,
   "id": "ddbd11bc",
   "metadata": {},
   "outputs": [
    {
     "name": "stdout",
     "output_type": "stream",
     "text": [
      "[{'title': \"The Launch Is Approaching for NASA's Next Mars Rover, Perseverance\", 'preview': \"The Red Planet's surface has been visited by eight NASA spacecraft. The ninth will be the first that includes a roundtrip ticket in its flight plan. \"}, {'title': \"Virginia Middle School Student Earns Honor of Naming NASA's Next Mars Rover\", 'preview': 'NASA chose a seventh-grader from Virginia as winner of the agency\\'s \"Name the Rover\" essay contest. Alexander Mather\\'s entry for \"Perseverance\" was voted tops among 28,000 entries. '}, {'title': \"InSight's 'Mole' Team Peers into the Pit\", 'preview': 'Efforts to save the heat probe continue.'}, {'title': \"NASA's Mars 2020 Rover Goes Coast-to-Coast to Prep for Launch\", 'preview': \"The agency's first step in returning rocks from Mars just arrived at Kennedy Space Center. The Mars 2020 team now begins readying for a launch to the Red Planet this July.\"}, {'title': 'Mars Is Getting a New Robotic Meteorologist', 'preview': \"Sensors on NASA's Perseverance will help prepare for future human exploration by taking weather measurements and studying dust particles.\"}, {'title': 'MAVEN Maps Electric Currents around Mars that are Fundamental to Atmospheric Loss', 'preview': 'Five years after NASA’s MAVEN spacecraft entered into orbit around Mars, data from the mission has led to the creation of a map of electric current systems in the Martian atmosphere.'}, {'title': \"NASA's MAVEN Explores Mars to Understand Radio Interference at Earth\", 'preview': 'NASA’s MAVEN spacecraft has discovered “layers” and “rifts” in the electrically charged part of the upper atmosphere of Mars.'}, {'title': 'Mars 2020 Stands on Its Own Six Wheels', 'preview': \"In time-lapse video, taken at JPL, captures the first time NASA's Mars 2020 rover carries its full weight on its legs and wheels.\"}, {'title': \"HiRISE Views NASA's InSight and Curiosity on Mars\", 'preview': 'New images taken from space offer the clearest orbital glimpse yet of InSight as well as a view of Curiosity rolling along.'}, {'title': \"How NASA's Perseverance Mars Team Adjusted to Work in the Time of Coronavirus \", 'preview': 'Like much of the rest of the world, the Mars rover team is pushing forward with its mission-critical work while putting the health and safety of their colleagues and community first.'}, {'title': \"Air Deliveries Bring NASA's Perseverance Mars Rover Closer to Launch\", 'preview': \"A NASA Wallops Flight Facility cargo plane transported more than two tons of equipment — including the rover's sample collection tubes — to Florida for this summer's liftoff.\"}, {'title': 'Join NASA for the Launch of the Mars 2020 Perseverance Rover', 'preview': 'No matter where you live, choose from a menu of activities to join NASA as we \"Countdown to Mars\" and launch the Perseverance rover to the Red Planet.'}, {'title': 'NASA Prepares for Moon and Mars With New Addition to Its Deep Space Network', 'preview': 'Robotic spacecraft will be able to communicate with the dish using radio waves and lasers.'}, {'title': \"NASA's Mars Perseverance Rover Passes Flight Readiness Review\", 'preview': \"\\u200bThe agency's Mars 2020 mission has one more big prelaunch review – the Launch Readiness Review, on July 27.\"}, {'title': \"Screening Soon: 'The Pathfinders' Trains Lens on Mars\", 'preview': 'With the Mars 2020 mission ramping up, the documentary — the first of four about past JPL missions to the Red Planet to be shown at Caltech — tells a gripping backstory.'}]\n"
     ]
    }
   ],
   "source": [
    "main_page_obj = soup.find_all('div',class_='list_text')\n",
    "main_page_list = []\n",
    "for obj in main_page_obj:\n",
    "    data_dict={\"title\":\"\",\"preview\":\"\"}\n",
    "    title=obj.find('div',class_='content_title').text\n",
    "    summary= obj.find('div', class_='article_teaser_body').text\n",
    "    data_dict[\"title\"] = title\n",
    "    data_dict[\"preview\"] = summary\n",
    "    main_page_list.append(data_dict)\n",
    "print(main_page_list)"
   ]
  },
  {
   "cell_type": "code",
   "execution_count": 4,
   "id": "a94caf32",
   "metadata": {},
   "outputs": [
    {
     "name": "stdout",
     "output_type": "stream",
     "text": [
      "[{\"title\": \"The Launch Is Approaching for NASA's Next Mars Rover, Perseverance\", \"preview\": \"The Red Planet's surface has been visited by eight NASA spacecraft. The ninth will be the first that includes a roundtrip ticket in its flight plan. \"}, {\"title\": \"Virginia Middle School Student Earns Honor of Naming NASA's Next Mars Rover\", \"preview\": \"NASA chose a seventh-grader from Virginia as winner of the agency's \\\"Name the Rover\\\" essay contest. Alexander Mather's entry for \\\"Perseverance\\\" was voted tops among 28,000 entries. \"}, {\"title\": \"InSight's 'Mole' Team Peers into the Pit\", \"preview\": \"Efforts to save the heat probe continue.\"}, {\"title\": \"NASA's Mars 2020 Rover Goes Coast-to-Coast to Prep for Launch\", \"preview\": \"The agency's first step in returning rocks from Mars just arrived at Kennedy Space Center. The Mars 2020 team now begins readying for a launch to the Red Planet this July.\"}, {\"title\": \"Mars Is Getting a New Robotic Meteorologist\", \"preview\": \"Sensors on NASA's Perseverance will help prepare for future human exploration by taking weather measurements and studying dust particles.\"}, {\"title\": \"MAVEN Maps Electric Currents around Mars that are Fundamental to Atmospheric Loss\", \"preview\": \"Five years after NASA\\u2019s MAVEN spacecraft entered into orbit around Mars, data from the mission has led to the creation of a map of electric current systems in the Martian atmosphere.\"}, {\"title\": \"NASA's MAVEN Explores Mars to Understand Radio Interference at Earth\", \"preview\": \"NASA\\u2019s MAVEN spacecraft has discovered \\u201clayers\\u201d and \\u201crifts\\u201d in the electrically charged part of the upper atmosphere of Mars.\"}, {\"title\": \"Mars 2020 Stands on Its Own Six Wheels\", \"preview\": \"In time-lapse video, taken at JPL, captures the first time NASA's Mars 2020 rover carries its full weight on its legs and wheels.\"}, {\"title\": \"HiRISE Views NASA's InSight and Curiosity on Mars\", \"preview\": \"New images taken from space offer the clearest orbital glimpse yet of InSight as well as a view of Curiosity rolling along.\"}, {\"title\": \"How NASA's Perseverance Mars Team Adjusted to Work in the Time of Coronavirus \", \"preview\": \"Like much of the rest of the world, the Mars rover team is pushing forward with its mission-critical work while putting the health and safety of their colleagues and community first.\"}, {\"title\": \"Air Deliveries Bring NASA's Perseverance Mars Rover Closer to Launch\", \"preview\": \"A NASA Wallops Flight Facility cargo plane transported more than two tons of equipment \\u2014 including the rover's sample collection tubes \\u2014 to Florida for this summer's liftoff.\"}, {\"title\": \"Join NASA for the Launch of the Mars 2020 Perseverance Rover\", \"preview\": \"No matter where you live, choose from a menu of activities to join NASA as we \\\"Countdown to Mars\\\" and launch the Perseverance rover to the Red Planet.\"}, {\"title\": \"NASA Prepares for Moon and Mars With New Addition to Its Deep Space Network\", \"preview\": \"Robotic spacecraft will be able to communicate with the dish using radio waves and lasers.\"}, {\"title\": \"NASA's Mars Perseverance Rover Passes Flight Readiness Review\", \"preview\": \"\\u200bThe agency's Mars 2020 mission has one more big prelaunch review \\u2013 the Launch Readiness Review, on July 27.\"}, {\"title\": \"Screening Soon: 'The Pathfinders' Trains Lens on Mars\", \"preview\": \"With the Mars 2020 mission ramping up, the documentary \\u2014 the first of four about past JPL missions to the Red Planet to be shown at Caltech \\u2014 tells a gripping backstory.\"}]\n"
     ]
    }
   ],
   "source": [
    "json_data = json.dumps(main_page_list)\n",
    "print(json_data)"
   ]
  },
  {
   "cell_type": "code",
   "execution_count": 5,
   "id": "072e90a4",
   "metadata": {},
   "outputs": [],
   "source": [
    "df=pd.read_json(json_data)\n",
    "df.to_csv('C:\\\\Users\\\\lipsa\\\\UoT-Data-Analytics\\\\WebScraping\\\\Module_Challenge\\\\red_planet.csv',index=False)"
   ]
  },
  {
   "cell_type": "code",
   "execution_count": null,
   "id": "c80131a1",
   "metadata": {},
   "outputs": [],
   "source": []
  }
 ],
 "metadata": {
  "kernelspec": {
   "display_name": "Python 3 (ipykernel)",
   "language": "python",
   "name": "python3"
  },
  "language_info": {
   "codemirror_mode": {
    "name": "ipython",
    "version": 3
   },
   "file_extension": ".py",
   "mimetype": "text/x-python",
   "name": "python",
   "nbconvert_exporter": "python",
   "pygments_lexer": "ipython3",
   "version": "3.8.5"
  }
 },
 "nbformat": 4,
 "nbformat_minor": 5
}
